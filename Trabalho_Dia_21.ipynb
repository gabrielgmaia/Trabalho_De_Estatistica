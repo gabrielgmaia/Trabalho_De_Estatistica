{
  "cells": [
    {
      "cell_type": "code",
      "execution_count": null,
      "metadata": {
        "id": "NHEMjR2A7rau"
      },
      "outputs": [],
      "source": [
        "#Importação das bibliotecas\n",
        "import pandas as pd\n",
        "import numpy as np\n",
        "import matplotlib.pyplot as plt"
      ]
    },
    {
      "cell_type": "code",
      "execution_count": null,
      "metadata": {
        "colab": {
          "base_uri": "https://localhost:8080/",
          "height": 224
        },
        "id": "YiG0iSb7813J",
        "outputId": "ee7de177-5e39-4225-9462-005c7433dd7d"
      },
      "outputs": [],
      "source": [
        "#Definição e importação do database para o código/ Onde: Idade(quatos anos) ,Ano(aconteceimento do diagnostico),\n",
        "#Num_Nos(numero de nos detectados no paciente) ,Status(Epoca do falecimento 1 se o paciente morreu a menos de 5 anos apos o diagnostico e 2 para mais que 5 anos)\n",
        "banco_git = 'https://raw.githubusercontent.com/gabrielgmaia/Data-_base_mama/main/haberman.data'\n",
        "\n",
        "db = pd.read_csv(banco_git)\n",
        "\n",
        "db.rename(columns = {'30' : 'Idade', '64' : 'Ano', '1' : \"Num_Nos\", '1.1' : 'Status'} , inplace = True)\n",
        "db"
      ]
    },
    {
      "cell_type": "code",
      "execution_count": null,
      "metadata": {
        "colab": {
          "base_uri": "https://localhost:8080/",
          "height": 281
        },
        "id": "1cgueJ5gX61n",
        "outputId": "6c012eab-30b8-4d56-8bae-a05bd3dcdca1"
      },
      "outputs": [],
      "source": [
        "#Plotagem do histograma da coluna Status (1 ou 2)\n",
        "db.hist('Status', bins = 15)\n",
        "plt.show()"
      ]
    },
    {
      "cell_type": "code",
      "execution_count": null,
      "metadata": {
        "colab": {
          "base_uri": "https://localhost:8080/"
        },
        "id": "qm6BCBiiX7KP",
        "outputId": "18138aae-5e26-4ce7-f8f1-eabc54a826c7"
      },
      "outputs": [],
      "source": [
        "#Média dos valores Qualitativos,Quantitativos: sendo eles Continuos e Discretos\n",
        "db.mean()"
      ]
    },
    {
      "cell_type": "code",
      "execution_count": null,
      "metadata": {
        "colab": {
          "base_uri": "https://localhost:8080/",
          "height": 266
        },
        "id": "0utfYuj_syka",
        "outputId": "5eafc4bf-4441-4231-fcfe-e7d87c138c66"
      },
      "outputs": [],
      "source": [
        "#Criação e plotagem do histograma Quantitativo (Idade, Ano, Numero de nós)\n",
        "db.hist(['Idade','Ano','Num_Nos'])\n",
        "plt.show()"
      ]
    },
    {
      "cell_type": "code",
      "execution_count": null,
      "metadata": {
        "colab": {
          "base_uri": "https://localhost:8080/"
        },
        "id": "662qUJQ0X7Qo",
        "outputId": "2d544b4c-7f2d-4d75-d1e9-77cc66d079ae"
      },
      "outputs": [],
      "source": [
        "#Mediana dos valores Quantitativos (Idade, Ano, Numero de nós)\n",
        "db.groupby('Idade')['Ano','Num_Nos'].median()"
      ]
    },
    {
      "cell_type": "code",
      "execution_count": null,
      "metadata": {
        "colab": {
          "base_uri": "https://localhost:8080/"
        },
        "id": "yXkthMZpX7G2",
        "outputId": "cc043113-7a5c-451e-eeba-1de67493c2bd"
      },
      "outputs": [],
      "source": [
        "#Desvio padrão dos valores Quantitativos (Idade, Ano, Numero de nós)\n",
        "db.groupby('Idade')['Ano','Num_Nos'].std()"
      ]
    },
    {
      "cell_type": "code",
      "execution_count": null,
      "metadata": {
        "id": "ncAsFNwuui39"
      },
      "outputs": [],
      "source": [
        "#Frequencia relativa da idade\n",
        "\n",
        "Freq_idade = db['Idade'].value_counts()\n",
        "Porcentagem_idade = db['Idade'].value_counts(normalize = True)*100\n",
        "\n",
        "Freq_rel_idade = pd.DataFrame({'Frequencia': Freq_idade,\n",
        "'Porcentagem(%)':Porcentagem_idade})\n",
        "\n",
        "\n",
        "Freq_rel_idade.rename_axis('Idade',axis = 'columns', inplace = True)\n",
        "print(Freq_rel_idade)"
      ]
    },
    {
      "cell_type": "code",
      "execution_count": null,
      "metadata": {},
      "outputs": [],
      "source": [
        "#Frequencia relativa do Ano\n",
        "\n",
        "Freq_ano = db['Ano'].value_counts()\n",
        "Porcentagem_ano = db['Ano'].value_counts(normalize = True)*100\n",
        "\n",
        "Freq_rel_ano = pd.DataFrame({'Frequencia': Freq_ano,\n",
        "'Porcentagem(%)':Porcentagem_ano})\n",
        "\n",
        "\n",
        "Freq_rel_ano.rename_axis('Ano',axis = 'columns', inplace = True)\n",
        "print(Freq_rel_ano)"
      ]
    },
    {
      "cell_type": "code",
      "execution_count": null,
      "metadata": {},
      "outputs": [],
      "source": [
        "#Frequencia relativa dos numeros de Nos\n",
        "\n",
        "Freq_nos = db['Num_Nos'].value_counts()\n",
        "Porcentagem_nos = db['Num_Nos'].value_counts(normalize = True)*100\n",
        "\n",
        "Freq_rel_nos = pd.DataFrame({'Frequencia': Freq_nos,\n",
        "'Porcentagem(%)':Porcentagem_nos})\n",
        "\n",
        "\n",
        "Freq_rel_nos.rename_axis('Num_Nos',axis = 'columns', inplace = True)\n",
        "print(Freq_rel_nos)"
      ]
    }
  ],
  "metadata": {
    "colab": {
      "collapsed_sections": [],
      "provenance": []
    },
    "kernelspec": {
      "display_name": "Python 3.10.7 64-bit",
      "language": "python",
      "name": "python3"
    },
    "language_info": {
      "codemirror_mode": {
        "name": "ipython",
        "version": 3
      },
      "file_extension": ".py",
      "mimetype": "text/x-python",
      "name": "python",
      "nbconvert_exporter": "python",
      "pygments_lexer": "ipython3",
      "version": "3.10.7"
    },
    "vscode": {
      "interpreter": {
        "hash": "b1be5a1e9e85905d3e4e97ef1b769f5caa870a8a58c9f9e0ae488b6f0a0e1baf"
      }
    }
  },
  "nbformat": 4,
  "nbformat_minor": 0
}
